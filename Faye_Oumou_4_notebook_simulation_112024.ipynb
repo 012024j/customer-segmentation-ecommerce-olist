{
 "cells": [
  {
   "cell_type": "markdown",
   "id": "70d94f62-f812-46d4-8832-96ba2ed8f8a8",
   "metadata": {},
   "source": [
    "# **<div style=\"text-align:center\"><span style=\"font-size:1em;\"> <code>Segmentez des clients d'un site e-commerce</code></span> </div>**"
   ]
  },
  {
   "cell_type": "markdown",
   "id": "990844bc-b0d3-4242-9d1d-a49cdb553364",
   "metadata": {},
   "source": [
    "# ETAPE #4 Simuler un contrat de maintenance"
   ]
  },
  {
   "cell_type": "code",
   "execution_count": 1,
   "id": "2f240b8b-e707-40db-9bdd-d0422bd20aea",
   "metadata": {},
   "outputs": [
    {
     "name": "stdout",
     "output_type": "stream",
     "text": [
      "F0_dataset contient 51566 lignes.\n",
      "Nombre de clients uniques dans F0 : 44823\n",
      "F0_dataset.csv a été créé avec succès.\n"
     ]
    }
   ],
   "source": [
    "import pandas as pd\n",
    "\n",
    "# Charger le fichier CSV\n",
    "base_dataset_path = 'OLIST_merged_data_copy.csv'\n",
    "dataset = pd.read_csv(base_dataset_path)\n",
    "\n",
    "# Convertir la colonne 'order_purchase_timestamp' en datetime\n",
    "dataset['order_purchase_timestamp'] = pd.to_datetime(dataset['order_purchase_timestamp'], errors='coerce')\n",
    "\n",
    "# Définir les dates pour F0\n",
    "start_date_F0 = pd.Timestamp(\"2016-10-04 23:26:51\")\n",
    "end_date_F0 = pd.Timestamp(\"2017-12-31 23:59:59\")\n",
    "\n",
    "# Filtrer le dataset pour F0\n",
    "F0_dataset = dataset[(dataset['order_purchase_timestamp'] >= start_date_F0) &\n",
    "                     (dataset['order_purchase_timestamp'] <= end_date_F0)].copy()\n",
    "\n",
    "# Afficher le nombre de lignes et de clients uniques dans F0\n",
    "print(f\"F0_dataset contient {len(F0_dataset)} lignes.\")\n",
    "print(f\"Nombre de clients uniques dans F0 : {F0_dataset['customer_id'].nunique()}\")\n",
    "\n",
    "# Sauvegarder F0 dans un fichier CSV\n",
    "F0_dataset.to_csv('F0_dataset.csv', index=False)\n",
    "\n",
    "print(\"F0_dataset.csv a été créé avec succès.\")\n"
   ]
  },
  {
   "cell_type": "code",
   "execution_count": 2,
   "id": "475ce6af",
   "metadata": {},
   "outputs": [
    {
     "name": "stdout",
     "output_type": "stream",
     "text": [
      "F1_dataset.csv a été créé avec succès.\n"
     ]
    }
   ],
   "source": [
    "# Définir les dates pour F1\n",
    "start_date_F1 = pd.Timestamp(\"2016-10-04 23:26:51\")\n",
    "end_date_F1 = pd.Timestamp(\"2018-01-05 23:59:59\")\n",
    "\n",
    "# Filtrer le dataset pour F1\n",
    "F1_dataset = dataset[(dataset['order_purchase_timestamp'] >= start_date_F1) &\n",
    "                     (dataset['order_purchase_timestamp'] <= end_date_F1)]\n",
    "\n",
    "# Sauvegarder F1 dans un fichier CSV\n",
    "F1_dataset.to_csv('F1_dataset.csv', index=False)\n",
    "\n",
    "print(\"F1_dataset.csv a été créé avec succès.\")"
   ]
  },
  {
   "cell_type": "code",
   "execution_count": 3,
   "id": "a5194e89-c114-4090-a4fa-f9e9b5c6a7d4",
   "metadata": {},
   "outputs": [
    {
     "name": "stdout",
     "output_type": "stream",
     "text": [
      "F2_dataset.csv a été créé avec succès.\n"
     ]
    }
   ],
   "source": [
    "# Définir les dates pour F2\n",
    "start_date_F2 = pd.Timestamp(\"2016-10-04 23:26:51\")\n",
    "end_date_F2 = pd.Timestamp(\"2018-01-10 23:59:59\")\n",
    "\n",
    "# Filtrer le dataset pour F2\n",
    "F2_dataset = dataset[(dataset['order_purchase_timestamp'] >= start_date_F2) &\n",
    "                     (dataset['order_purchase_timestamp'] <= end_date_F2)]\n",
    "\n",
    "# Sauvegarder F2 dans un fichier CSV\n",
    "F2_dataset.to_csv('F2_dataset.csv', index=False)\n",
    "\n",
    "print(\"F2_dataset.csv a été créé avec succès.\")"
   ]
  },
  {
   "cell_type": "code",
   "execution_count": 4,
   "id": "1d9f2e47-f2de-499e-8a03-5f1511a61070",
   "metadata": {},
   "outputs": [
    {
     "name": "stdout",
     "output_type": "stream",
     "text": [
      "F3_dataset.csv a été créé avec succès.\n"
     ]
    }
   ],
   "source": [
    "# Définir les dates pour F3\n",
    "start_date_F3 = pd.Timestamp(\"2016-10-04 23:26:51\")\n",
    "end_date_F3 = pd.Timestamp(\"2018-01-15 23:59:59\")\n",
    "\n",
    "# Filtrer le dataset pour F3\n",
    "F3_dataset = dataset[(dataset['order_purchase_timestamp'] >= start_date_F3) &\n",
    "                     (dataset['order_purchase_timestamp'] <= end_date_F3)]\n",
    "\n",
    "# Sauvegarder F3 dans un fichier CSV\n",
    "F3_dataset.to_csv('F3_dataset.csv', index=False)\n",
    "\n",
    "print(\"F3_dataset.csv a été créé avec succès.\")"
   ]
  },
  {
   "cell_type": "code",
   "execution_count": 5,
   "id": "853552bc-4bf6-41a5-ab42-2d6ad340b917",
   "metadata": {},
   "outputs": [
    {
     "name": "stdout",
     "output_type": "stream",
     "text": [
      "F4_dataset.csv a été créé avec succès.\n"
     ]
    }
   ],
   "source": [
    "# Définir les dates pour F4\n",
    "start_date_F4 = pd.Timestamp(\"2016-10-04 23:26:51\")\n",
    "end_date_F4 = pd.Timestamp(\"2018-01-20 23:59:59\")\n",
    "\n",
    "# Filtrer le dataset pour F4\n",
    "F4_dataset = dataset[(dataset['order_purchase_timestamp'] >= start_date_F4) &\n",
    "                     (dataset['order_purchase_timestamp'] <= end_date_F4)]\n",
    "\n",
    "# Sauvegarder F4 dans un fichier CSV\n",
    "F4_dataset.to_csv('F4_dataset.csv', index=False)\n",
    "\n",
    "print(\"F4_dataset.csv a été créé avec succès.\")"
   ]
  },
  {
   "cell_type": "code",
   "execution_count": 6,
   "id": "6c8773c0-de78-431d-a829-c4519ee22782",
   "metadata": {},
   "outputs": [
    {
     "name": "stdout",
     "output_type": "stream",
     "text": [
      "F5_dataset.csv a été créé avec succès.\n"
     ]
    }
   ],
   "source": [
    "# Définir les dates pour F5\n",
    "start_date_F5 = pd.Timestamp(\"2016-10-04 23:26:51\")\n",
    "end_date_F5 = pd.Timestamp(\"2018-01-25 23:59:59\")\n",
    "\n",
    "# Filtrer le dataset pour F5\n",
    "F5_dataset = dataset[(dataset['order_purchase_timestamp'] >= start_date_F5) &\n",
    "                     (dataset['order_purchase_timestamp'] <= end_date_F5)]\n",
    "\n",
    "# Sauvegarder F5 dans un fichier CSV\n",
    "F5_dataset.to_csv('F5_dataset.csv', index=False)\n",
    "\n",
    "print(\"F5_dataset.csv a été créé avec succès.\")"
   ]
  },
  {
   "cell_type": "code",
   "execution_count": 7,
   "id": "30010281-3ccd-4839-8966-896c39ab2607",
   "metadata": {},
   "outputs": [
    {
     "name": "stdout",
     "output_type": "stream",
     "text": [
      "F6_dataset.csv a été créé avec succès.\n"
     ]
    }
   ],
   "source": [
    "# Définir les dates pour F6\n",
    "start_date_F6 = pd.Timestamp(\"2016-10-04 23:26:51\")\n",
    "end_date_F6 = pd.Timestamp(\"2018-01-30 23:59:59\")\n",
    "\n",
    "# Filtrer le dataset pour F6\n",
    "F6_dataset = dataset[(dataset['order_purchase_timestamp'] >= start_date_F6) &\n",
    "                     (dataset['order_purchase_timestamp'] <= end_date_F6)]\n",
    "\n",
    "# Sauvegarder F6 dans un fichier CSV\n",
    "F6_dataset.to_csv('F6_dataset.csv', index=False)\n",
    "\n",
    "print(\"F6_dataset.csv a été créé avec succès.\")"
   ]
  },
  {
   "cell_type": "code",
   "execution_count": 8,
   "id": "80470b6c-6719-4aa8-a2e9-0d258eb02831",
   "metadata": {},
   "outputs": [
    {
     "name": "stdout",
     "output_type": "stream",
     "text": [
      "F7_dataset.csv a été créé avec succès.\n"
     ]
    }
   ],
   "source": [
    "# Définir les dates pour F7\n",
    "start_date_F7 = pd.Timestamp(\"2016-10-04 23:26:51\")\n",
    "end_date_F7 = pd.Timestamp(\"2018-02-05 23:59:59\")\n",
    "\n",
    "# Filtrer le dataset pour F7\n",
    "F7_dataset = dataset[(dataset['order_purchase_timestamp'] >= start_date_F7) &\n",
    "                     (dataset['order_purchase_timestamp'] <= end_date_F7)]\n",
    "\n",
    "# Sauvegarder F7 dans un fichier CSV\n",
    "F7_dataset.to_csv('F7_dataset.csv', index=False)\n",
    "\n",
    "print(\"F7_dataset.csv a été créé avec succès.\")"
   ]
  },
  {
   "cell_type": "code",
   "execution_count": 9,
   "id": "35c50c43",
   "metadata": {},
   "outputs": [
    {
     "data": {
      "text/plain": [
       "Timestamp('2018-01-05 23:45:24')"
      ]
     },
     "execution_count": 9,
     "metadata": {},
     "output_type": "execute_result"
    }
   ],
   "source": [
    "F1_dataset[\"order_purchase_timestamp\"].max()"
   ]
  },
  {
   "cell_type": "code",
   "execution_count": 10,
   "id": "a8eb38b0",
   "metadata": {},
   "outputs": [
    {
     "data": {
      "text/plain": [
       "45785"
      ]
     },
     "execution_count": 10,
     "metadata": {},
     "output_type": "execute_result"
    }
   ],
   "source": [
    "F1_dataset[\"customer_id\"].unique().size"
   ]
  },
  {
   "cell_type": "code",
   "execution_count": 11,
   "id": "a4092aaa",
   "metadata": {},
   "outputs": [
    {
     "data": {
      "text/plain": [
       "44823"
      ]
     },
     "execution_count": 11,
     "metadata": {},
     "output_type": "execute_result"
    }
   ],
   "source": [
    "F0_dataset[\"customer_id\"].unique().size"
   ]
  },
  {
   "cell_type": "code",
   "execution_count": 12,
   "id": "a74f7ee7",
   "metadata": {},
   "outputs": [
    {
     "name": "stdout",
     "output_type": "stream",
     "text": [
      "Nombre de customer_id de F0 existant dans F1 : 44823\n"
     ]
    }
   ],
   "source": [
    "# Trouver les customer_id communs entre F0_dataset et F1_dataset\n",
    "common_customers = set(F0_dataset['customer_id']).intersection(set(F1_dataset['customer_id']))\n",
    "\n",
    "# Afficher le nombre de customer_id communs\n",
    "print(f\"Nombre de customer_id de F0 existant dans F1 : {len(common_customers)}\")"
   ]
  },
  {
   "cell_type": "code",
   "execution_count": 13,
   "id": "6ed4c0e1-d7b7-4087-8aa1-2be48d6eea59",
   "metadata": {},
   "outputs": [
    {
     "name": "stdout",
     "output_type": "stream",
     "text": [
      "Nombre de customer_id de F0 existant dans F2 : 44823\n"
     ]
    }
   ],
   "source": [
    "# Trouver les customer_id communs entre F0_dataset et F2_dataset\n",
    "common_customers = set(F0_dataset['customer_id']).intersection(set(F2_dataset['customer_id']))\n",
    "\n",
    "# Afficher le nombre de customer_id communs\n",
    "print(f\"Nombre de customer_id de F0 existant dans F2 : {len(common_customers)}\")"
   ]
  },
  {
   "cell_type": "code",
   "execution_count": 14,
   "id": "5ed0e430-86e2-42ae-b2e1-4032cb1d3c86",
   "metadata": {},
   "outputs": [
    {
     "name": "stdout",
     "output_type": "stream",
     "text": [
      "Nombre de customer_id de F0 existant dans F3 : 44823\n"
     ]
    }
   ],
   "source": [
    "# Trouver les customer_id communs entre F0_dataset et F3_dataset\n",
    "common_customers = set(F0_dataset['customer_id']).intersection(set(F3_dataset['customer_id']))\n",
    "\n",
    "# Afficher le nombre de customer_id communs\n",
    "print(f\"Nombre de customer_id de F0 existant dans F3 : {len(common_customers)}\")"
   ]
  },
  {
   "cell_type": "code",
   "execution_count": 15,
   "id": "caf94857-e225-47b1-9d01-8b61079190d0",
   "metadata": {},
   "outputs": [
    {
     "name": "stdout",
     "output_type": "stream",
     "text": [
      "Nombre de customer_id de F0 existant dans F4 : 44823\n"
     ]
    }
   ],
   "source": [
    "# Trouver les customer_id communs entre F0_dataset et F4_dataset\n",
    "common_customers = set(F0_dataset['customer_id']).intersection(set(F4_dataset['customer_id']))\n",
    "\n",
    "# Afficher le nombre de customer_id communs\n",
    "print(f\"Nombre de customer_id de F0 existant dans F4 : {len(common_customers)}\")"
   ]
  },
  {
   "cell_type": "code",
   "execution_count": 16,
   "id": "06b925dc-4d0b-4da9-b5c8-4e75ae749768",
   "metadata": {},
   "outputs": [
    {
     "name": "stdout",
     "output_type": "stream",
     "text": [
      "Nombre de customer_id de F0 existant dans F5 : 44823\n"
     ]
    }
   ],
   "source": [
    "# Trouver les customer_id communs entre F0_dataset et F5_dataset\n",
    "common_customers = set(F0_dataset['customer_id']).intersection(set(F5_dataset['customer_id']))\n",
    "\n",
    "# Afficher le nombre de customer_id communs\n",
    "print(f\"Nombre de customer_id de F0 existant dans F5 : {len(common_customers)}\")"
   ]
  },
  {
   "cell_type": "code",
   "execution_count": 17,
   "id": "e41efbab-97a5-431a-96ea-fccf5df5fbcd",
   "metadata": {},
   "outputs": [
    {
     "name": "stdout",
     "output_type": "stream",
     "text": [
      "Nombre de customer_id de F0 existant dans F6 : 44823\n"
     ]
    }
   ],
   "source": [
    "# Trouver les customer_id communs entre F0_dataset et F6_dataset\n",
    "common_customers = set(F0_dataset['customer_id']).intersection(set(F6_dataset['customer_id']))\n",
    "\n",
    "# Afficher le nombre de customer_id communs\n",
    "print(f\"Nombre de customer_id de F0 existant dans F6 : {len(common_customers)}\")"
   ]
  },
  {
   "cell_type": "code",
   "execution_count": 18,
   "id": "1c8d1dae-4489-4d2e-b10e-665455176433",
   "metadata": {},
   "outputs": [
    {
     "name": "stdout",
     "output_type": "stream",
     "text": [
      "Nombre de customer_id de F0 existant dans F7 : 44823\n"
     ]
    }
   ],
   "source": [
    "# Trouver les customer_id communs entre F0_dataset et F7_dataset\n",
    "common_customers = set(F0_dataset['customer_id']).intersection(set(F7_dataset['customer_id']))\n",
    "\n",
    "# Afficher le nombre de customer_id communs\n",
    "print(f\"Nombre de customer_id de F0 existant dans F7 : {len(common_customers)}\")"
   ]
  },
  {
   "cell_type": "code",
   "execution_count": 19,
   "id": "f8cd8f33",
   "metadata": {},
   "outputs": [
    {
     "name": "stdout",
     "output_type": "stream",
     "text": [
      "F01_dataset.csv created with 51566 rows and 44823 unique customer IDs.\n"
     ]
    }
   ],
   "source": [
    "# Find the intersection of customer_id between F0 and F1\n",
    "# Create F01 containing only rows with customer_id in the intersection\n",
    "F01_dataset = F0_dataset[F0_dataset['customer_id'].isin(common_customers)]\n",
    "\n",
    "# Save F01 to a new CSV\n",
    "F01_dataset.to_csv('F01_dataset.csv', index=False)\n",
    "\n",
    "# Print the result\n",
    "print(f\"F01_dataset.csv created with {len(F01_dataset)} rows and {F01_dataset['customer_id'].nunique()} unique customer IDs.\")"
   ]
  },
  {
   "cell_type": "code",
   "execution_count": 20,
   "id": "4e2d1946-22f8-43d0-b2ad-79595dc6d6c7",
   "metadata": {},
   "outputs": [
    {
     "name": "stdout",
     "output_type": "stream",
     "text": [
      "F02_dataset.csv created with 51566 rows and 44823 unique customer IDs.\n"
     ]
    }
   ],
   "source": [
    "# Find the intersection of customer_id between F0 and F2\n",
    "# Create F02 containing only rows with customer_id in the intersection\n",
    "F02_dataset = F0_dataset[F0_dataset['customer_id'].isin(common_customers)]\n",
    "\n",
    "# Save F02 to a new CSV\n",
    "F02_dataset.to_csv('F02_dataset.csv', index=False)\n",
    "\n",
    "# Print the result\n",
    "print(f\"F02_dataset.csv created with {len(F02_dataset)} rows and {F02_dataset['customer_id'].nunique()} unique customer IDs.\")"
   ]
  },
  {
   "cell_type": "code",
   "execution_count": 21,
   "id": "007aa042-f673-4ddb-b94c-8763a5d3964f",
   "metadata": {},
   "outputs": [
    {
     "name": "stdout",
     "output_type": "stream",
     "text": [
      "F03_dataset.csv created with 51566 rows and 44823 unique customer IDs.\n"
     ]
    }
   ],
   "source": [
    "# Find the intersection of customer_id between F0 and F3\n",
    "# Create F03 containing only rows with customer_id in the intersection\n",
    "F03_dataset = F0_dataset[F0_dataset['customer_id'].isin(common_customers)]\n",
    "\n",
    "# Save F03 to a new CSV\n",
    "F03_dataset.to_csv('F03_dataset.csv', index=False)\n",
    "\n",
    "# Print the result\n",
    "print(f\"F03_dataset.csv created with {len(F03_dataset)} rows and {F03_dataset['customer_id'].nunique()} unique customer IDs.\")"
   ]
  },
  {
   "cell_type": "code",
   "execution_count": 22,
   "id": "b6f0c7dc-0714-4ed2-8175-a91a0caa217f",
   "metadata": {},
   "outputs": [
    {
     "name": "stdout",
     "output_type": "stream",
     "text": [
      "F04_dataset.csv created with 51566 rows and 44823 unique customer IDs.\n"
     ]
    }
   ],
   "source": [
    "# Find the intersection of customer_id between F0 and F4\n",
    "# Create F04 containing only rows with customer_id in the intersection\n",
    "F04_dataset = F0_dataset[F0_dataset['customer_id'].isin(common_customers)]\n",
    "\n",
    "# Save F04 to a new CSV\n",
    "F04_dataset.to_csv('F04_dataset.csv', index=False)\n",
    "\n",
    "# Print the result\n",
    "print(f\"F04_dataset.csv created with {len(F04_dataset)} rows and {F04_dataset['customer_id'].nunique()} unique customer IDs.\")"
   ]
  },
  {
   "cell_type": "code",
   "execution_count": 23,
   "id": "b1bf61aa-0f4c-4433-ab9e-e62079a4ed68",
   "metadata": {},
   "outputs": [
    {
     "name": "stdout",
     "output_type": "stream",
     "text": [
      "F05_dataset.csv created with 51566 rows and 44823 unique customer IDs.\n"
     ]
    }
   ],
   "source": [
    "# Find the intersection of customer_id between F0 and F5\n",
    "# Create F05 containing only rows with customer_id in the intersection\n",
    "F05_dataset = F0_dataset[F0_dataset['customer_id'].isin(common_customers)]\n",
    "\n",
    "# Save F05 to a new CSV\n",
    "F05_dataset.to_csv('F05_dataset.csv', index=False)\n",
    "\n",
    "# Print the result\n",
    "print(f\"F05_dataset.csv created with {len(F05_dataset)} rows and {F05_dataset['customer_id'].nunique()} unique customer IDs.\")"
   ]
  },
  {
   "cell_type": "code",
   "execution_count": 24,
   "id": "8f5f81f3-9585-4b4b-969c-61e2165f37dd",
   "metadata": {},
   "outputs": [
    {
     "name": "stdout",
     "output_type": "stream",
     "text": [
      "F06_dataset.csv created with 51566 rows and 44823 unique customer IDs.\n"
     ]
    }
   ],
   "source": [
    "# Find the intersection of customer_id between F0 and F6\n",
    "# Create F06 containing only rows with customer_id in the intersection\n",
    "F06_dataset = F0_dataset[F0_dataset['customer_id'].isin(common_customers)]\n",
    "\n",
    "# Save F06 to a new CSV\n",
    "F06_dataset.to_csv('F05_dataset.csv', index=False)\n",
    "\n",
    "# Print the result\n",
    "print(f\"F06_dataset.csv created with {len(F06_dataset)} rows and {F06_dataset['customer_id'].nunique()} unique customer IDs.\")"
   ]
  },
  {
   "cell_type": "code",
   "execution_count": 25,
   "id": "87a38f8c-709d-4cd3-942b-ce9fb99dfc0a",
   "metadata": {},
   "outputs": [
    {
     "name": "stdout",
     "output_type": "stream",
     "text": [
      "F07_dataset.csv created with 51566 rows and 44823 unique customer IDs.\n"
     ]
    }
   ],
   "source": [
    "# Find the intersection of customer_id between F0 and F7\n",
    "# Create F07 containing only rows with customer_id in the intersection\n",
    "F07_dataset = F0_dataset[F0_dataset['customer_id'].isin(common_customers)]\n",
    "\n",
    "# Save F07 to a new CSV\n",
    "F07_dataset.to_csv('F07_dataset.csv', index=False)\n",
    "\n",
    "# Print the result\n",
    "print(f\"F07_dataset.csv created with {len(F07_dataset)} rows and {F07_dataset['customer_id'].nunique()} unique customer IDs.\")"
   ]
  },
  {
   "cell_type": "code",
   "execution_count": 26,
   "id": "a1214e5b",
   "metadata": {},
   "outputs": [
    {
     "data": {
      "text/plain": [
       "44823"
      ]
     },
     "execution_count": 26,
     "metadata": {},
     "output_type": "execute_result"
    }
   ],
   "source": [
    "F01_dataset[\"customer_id\"].unique().size"
   ]
  },
  {
   "cell_type": "code",
   "execution_count": 27,
   "id": "368b9d78",
   "metadata": {},
   "outputs": [
    {
     "name": "stdout",
     "output_type": "stream",
     "text": [
      "F0_dataset contient 51566 lignes.\n",
      "Nombre de clients uniques dans F0 : 44823\n"
     ]
    }
   ],
   "source": [
    "# Afficher le nombre de lignes et de clients uniques dans F0\n",
    "print(f\"F0_dataset contient {len(F0_dataset)} lignes.\")\n",
    "print(f\"Nombre de clients uniques dans F0 : {F0_dataset['customer_id'].nunique()}\")\n"
   ]
  },
  {
   "cell_type": "markdown",
   "id": "5fe9c6ce-1b51-491f-a6ae-bb4d9e0a3180",
   "metadata": {},
   "source": [
    "## K-means de base [M0]"
   ]
  },
  {
   "cell_type": "code",
   "execution_count": 28,
   "id": "822f16c5-4c21-4d1f-8e5f-3f79f4469ad0",
   "metadata": {},
   "outputs": [
    {
     "name": "stdout",
     "output_type": "stream",
     "text": [
      "Modèle M0 entraîné et F0 enrichi avec les clusters. Une nouvelle colonne `C0` a été ajoutée au dataset F0, et le fichier `F0_with_clusters.csv` a été sauvegardé.\n"
     ]
    }
   ],
   "source": [
    "from sklearn.cluster import KMeans\n",
    "from sklearn.preprocessing import StandardScaler\n",
    "import pandas as pd\n",
    "\n",
    "# Charger les données de F0\n",
    "F0 = pd.read_csv('F0_dataset.csv')\n",
    "\n",
    "# Vérifier que les colonnes nécessaires pour le clustering sont présentes\n",
    "required_columns = ['recency', 'frequency', 'monetary',\n",
    "                    'review_score_1', 'review_score_2',\n",
    "                    'review_score_3', 'review_score_4', 'review_score_5']\n",
    "\n",
    "missing_columns = [col for col in required_columns if col not in F0.columns]\n",
    "if missing_columns:\n",
    "    raise ValueError(f\"Les colonnes suivantes sont manquantes dans F0 : {missing_columns}\")\n",
    "\n",
    "# Étape 1 : Standardisation des données\n",
    "scaler = StandardScaler()\n",
    "F0_scaled = scaler.fit_transform(F0[required_columns])  # Standardiser uniquement les colonnes nécessaires\n",
    "\n",
    "# Étape 2 : Initialisation du modèle K-Means\n",
    "n_clusters = 4  # Définir le nombre de clusters souhaités (ici, 4)\n",
    "M0 = KMeans(n_clusters=n_clusters, random_state=42)  # Initialiser le modèle K-Means avec 4 clusters et un état aléatoire fixe pour reproductibilité\n",
    "\n",
    "# Étape 3 : Ajuster le modèle K-Means sur les données standardisées\n",
    "F0['C0'] = M0.fit_predict(F0_scaled)  # Utiliser les données standardisées pour le clustering\n",
    "\n",
    "# Étape 4 : Sauvegarder le DataFrame enrichi avec les clusters\n",
    "output_file = 'F0_with_clusters.csv'\n",
    "F0.to_csv(output_file, index=False, encoding='utf-8')  # Sauvegarder F0 dans un fichier CSV avec la nouvelle colonne `C0`.\n",
    "print(f\"Modèle M0 entraîné et F0 enrichi avec les clusters. Une nouvelle colonne `C0` a été ajoutée au dataset F0, et le fichier `{output_file}` a été sauvegardé.\")\n"
   ]
  },
  {
   "cell_type": "markdown",
   "id": "b40ee69f-fcbe-4c35-a2a0-730eceb770ff",
   "metadata": {},
   "source": [
    "## K means [M1]"
   ]
  },
  {
   "cell_type": "code",
   "execution_count": null,
   "id": "88982ad1-33df-4d52-9ab4-3bc454674bf1",
   "metadata": {},
   "outputs": [
    {
     "name": "stdout",
     "output_type": "stream",
     "text": [
      "Dates dans F1 :\n",
      "Min : 2016-10-04 23:26:51\n",
      "Max : 2018-01-05 23:45:24\n",
      "Modèle M1 entraîné et F1 enrichi avec les clusters. Une nouvelle colonne C1 a été ajoutée au dataset F1, et le fichier F1_with_clusters.csv a été sauvegardé.\n"
     ]
    }
   ],
   "source": [
    "from sklearn.cluster import KMeans\n",
    "import pandas as pd\n",
    "\n",
    "# Charger le dataset F1 depuis un fichier CSV \n",
    "F1 = pd.read_csv('F1_dataset.csv', encoding='utf-8')\n",
    "\n",
    "# Vérifier les dates minimales et maximales dans F1\n",
    "print(f\"Dates dans F1 :\")\n",
    "print(f\"Min : {F1['order_purchase_timestamp'].min()}\")\n",
    "print(f\"Max : {F1['order_purchase_timestamp'].max()}\")\n",
    "\n",
    "\n",
    "# Définir les colonnes requises pour F1 (identiques à celles utilisées pour F0)\n",
    "F1_required_columns = ['recency', 'frequency', 'monetary',\n",
    "                       'review_score_1', 'review_score_2',\n",
    "                       'review_score_3', 'review_score_4', 'review_score_5']\n",
    "\n",
    "# Vérifier que les colonnes requises existent dans F1\n",
    "missing_columns = [col for col in F1_required_columns if col not in F1.columns]\n",
    "if missing_columns:\n",
    "    raise ValueError(f\"Les colonnes suivantes sont manquantes dans le dataset F1 : {missing_columns}\")\n",
    "\n",
    "F1_scaled = scaler.transform(F1[F1_required_columns])\n",
    "\n",
    "# Initialisation du modèle K-Means\n",
    "n_clusters = 4  # Définir le nombre de clusters souhaités (ici, 4)\n",
    "M1 = KMeans(n_clusters=n_clusters, random_state=42)  # Initialiser le modèle K-Means avec 4 clusters et un état aléatoire fixe pour reproductibilité\n",
    "\n",
    "# Ajuster le modèle K-Means sur les colonnes spécifiées et assigner les clusters\n",
    "F1['C1'] = M1.fit_predict(F1_scaled)  # Les colonnes spécifiées sont utilisées comme variables pour le clustering.\n",
    "\n",
    "# Sauvegarder le DataFrame enrichi avec les clusters\n",
    "F1.to_csv('F1_with_clusters.csv', index=False, encoding='utf-8')  # Sauvegarder F1 dans un fichier CSV avec la nouvelle colonne `C1`.\n",
    "\n",
    "print(\"Modèle M1 entraîné et F1 enrichi avec les clusters. Une nouvelle colonne C1 a été ajoutée au dataset F1, et le fichier F1_with_clusters.csv a été sauvegardé.\")\n"
   ]
  },
  {
   "cell_type": "code",
   "execution_count": 30,
   "id": "46a3bd13-41d8-4fec-879e-0886efdd5e13",
   "metadata": {},
   "outputs": [
    {
     "name": "stdout",
     "output_type": "stream",
     "text": [
      "Dates dans F1 :\n",
      "Min : 2016-10-04 23:26:51\n",
      "Max : 2018-01-05 23:45:24\n",
      "Les clusters prédits avec le modèle [M0] ont été ajoutés à F1 sous la colonne 'C0_1'.\n",
      "Le fichier enrichi a été exporté sous le nom : F1_with_C01_clusters.csv\n"
     ]
    }
   ],
   "source": [
    "from sklearn.cluster import KMeans\n",
    "from sklearn.preprocessing import StandardScaler\n",
    "import pandas as pd\n",
    "\n",
    "# Charger les données de F1\n",
    "F1 = pd.read_csv('F1_dataset.csv')\n",
    "\n",
    "# Vérifier les dates minimales et maximales dans F1\n",
    "print(f\"Dates dans F1 :\")\n",
    "print(f\"Min : {F1['order_purchase_timestamp'].min()}\")\n",
    "print(f\"Max : {F1['order_purchase_timestamp'].max()}\")\n",
    "\n",
    "# Vérifier que les colonnes nécessaires sont présentes\n",
    "required_columns = ['recency', 'frequency', 'monetary',\n",
    "                    'review_score_1', 'review_score_2',\n",
    "                    'review_score_3', 'review_score_4', 'review_score_5']\n",
    "\n",
    "missing_columns = [col for col in required_columns if col not in F1.columns]\n",
    "if missing_columns:\n",
    "    raise ValueError(f\"Les colonnes suivantes sont manquantes dans F1 : {missing_columns}\")\n",
    "\n",
    "\n",
    "# Étape 2 : Standardiser F1 en utilisant le scaler ajusté sur F0\n",
    "F1_scaled_with_F0 = scaler.transform(F1[required_columns])  # Transformer F1 avec le scaler de F0\n",
    "\n",
    "# Étape 3 : Utiliser le modèle M0 déjà entraîné pour prédire les clusters sur F1\n",
    "F1['C0_1'] = M0.predict(F1_scaled_with_F0)  # Ajouter une colonne 'C0_1' avec les clusters prédits\n",
    "\n",
    "# Étape 4 : Sauvegarder le DataFrame F1 enrichi avec les clusters prédits\n",
    "output_file = 'F1_with_C01_clusters.csv'\n",
    "F1.to_csv(output_file, index=False, encoding='utf-8')\n",
    "\n",
    "# Afficher les résultats\n",
    "print(f\"Les clusters prédits avec le modèle [M0] ont été ajoutés à F1 sous la colonne 'C0_1'.\")\n",
    "print(f\"Le fichier enrichi a été exporté sous le nom : {output_file}\")\n"
   ]
  },
  {
   "cell_type": "markdown",
   "id": "c4b182a2-7a0c-4d36-8725-2ae40d8f5760",
   "metadata": {},
   "source": [
    "## ARI #[1]"
   ]
  },
  {
   "cell_type": "code",
   "execution_count": 31,
   "id": "56236c87-9944-4f4f-9d4a-51d3ff9a6ecf",
   "metadata": {},
   "outputs": [
    {
     "data": {
      "text/plain": [
       "Index(['order_id', 'order_item_id', 'product_id', 'seller_id',\n",
       "       'shipping_limit_date', 'price', 'freight_value', 'customer_id',\n",
       "       'order_status', 'order_purchase_timestamp', 'order_approved_at',\n",
       "       'order_delivered_carrier_date', 'order_delivered_customer_date',\n",
       "       'order_estimated_delivery_date', 'product_category_name',\n",
       "       'product_name_lenght', 'product_description_lenght',\n",
       "       'product_photos_qty', 'product_weight_g', 'product_length_cm',\n",
       "       'product_height_cm', 'product_width_cm', 'customer_unique_id',\n",
       "       'customer_zip_code_prefix', 'customer_city', 'customer_state',\n",
       "       'recency', 'frequency', 'monetary', 'review_score_1', 'review_score_2',\n",
       "       'review_score_3', 'review_score_4', 'review_score_5', 'C0_1'],\n",
       "      dtype='object')"
      ]
     },
     "execution_count": 31,
     "metadata": {},
     "output_type": "execute_result"
    }
   ],
   "source": [
    "C0_1 = pd.read_csv('F1_with_C01_clusters.csv')\n",
    "C0_1.columns"
   ]
  },
  {
   "cell_type": "code",
   "execution_count": 32,
   "id": "96940188-b499-415a-a477-d52311fa7e7c",
   "metadata": {},
   "outputs": [
    {
     "data": {
      "text/plain": [
       "Index(['order_id', 'order_item_id', 'product_id', 'seller_id',\n",
       "       'shipping_limit_date', 'price', 'freight_value', 'customer_id',\n",
       "       'order_status', 'order_purchase_timestamp', 'order_approved_at',\n",
       "       'order_delivered_carrier_date', 'order_delivered_customer_date',\n",
       "       'order_estimated_delivery_date', 'product_category_name',\n",
       "       'product_name_lenght', 'product_description_lenght',\n",
       "       'product_photos_qty', 'product_weight_g', 'product_length_cm',\n",
       "       'product_height_cm', 'product_width_cm', 'customer_unique_id',\n",
       "       'customer_zip_code_prefix', 'customer_city', 'customer_state',\n",
       "       'recency', 'frequency', 'monetary', 'review_score_1', 'review_score_2',\n",
       "       'review_score_3', 'review_score_4', 'review_score_5', 'C1'],\n",
       "      dtype='object')"
      ]
     },
     "execution_count": 32,
     "metadata": {},
     "output_type": "execute_result"
    }
   ],
   "source": [
    "C1 = pd.read_csv('F1_with_clusters.csv')\n",
    "C1.columns"
   ]
  },
  {
   "cell_type": "code",
   "execution_count": 33,
   "id": "09b80129-d667-4c07-bfea-5c9e599bd1d0",
   "metadata": {},
   "outputs": [
    {
     "name": "stdout",
     "output_type": "stream",
     "text": [
      "Indice de Rand Ajusté (ARI) entre M1 et M0 sur F1 : 0.9677\n"
     ]
    }
   ],
   "source": [
    "import pandas as pd\n",
    "from sklearn.metrics import adjusted_rand_score\n",
    "\n",
    "# Calcul de l'ARI entre C1 et C0_1 - On compare l'application du Modele M0 (C0_1) sur les données F1 AVEC le modele frais F1 (C1)\n",
    "ari_score = adjusted_rand_score(C1['C1'], C0_1['C0_1'])\n",
    "\n",
    "# Afficher le score ARI\n",
    "print(f\"Indice de Rand Ajusté (ARI) entre M1 et M0 sur F1 : {ari_score:.4f}\")"
   ]
  },
  {
   "cell_type": "markdown",
   "id": "43c2fb14-24a2-4025-af9d-54d95dc10ec7",
   "metadata": {},
   "source": [
    "## K means [M2]"
   ]
  },
  {
   "cell_type": "code",
   "execution_count": null,
   "id": "88201d4c-5afd-4edd-a006-3dcd443e8d97",
   "metadata": {},
   "outputs": [
    {
     "name": "stdout",
     "output_type": "stream",
     "text": [
      "Dates dans F2 :\n",
      "Min : 2016-10-04 23:26:51\n",
      "Max : 2018-01-10 23:58:35\n",
      "Modèle M2 entraîné et F2 enrichi avec les clusters. Une nouvelle colonne C2 a été ajoutée au dataset F2, et le fichier F2_with_clusters.csv a été sauvegardé.\n"
     ]
    }
   ],
   "source": [
    "from sklearn.cluster import KMeans\n",
    "import pandas as pd\n",
    "from sklearn.preprocessing import StandardScaler\n",
    "\n",
    "# Charger le dataset F2 depuis un fichier CSV \n",
    "F2 = pd.read_csv('F2_dataset.csv', encoding='utf-8')\n",
    "\n",
    "# Vérifier les dates minimales et maximales dans F2\n",
    "print(f\"Dates dans F2 :\")\n",
    "print(f\"Min : {F2['order_purchase_timestamp'].min()}\")\n",
    "print(f\"Max : {F2['order_purchase_timestamp'].max()}\")\n",
    "\n",
    "\n",
    "# Définir les colonnes requises pour F2 (identiques à celles utilisées pour F0)\n",
    "F2_required_columns = ['recency', 'frequency', 'monetary',\n",
    "                       'review_score_1', 'review_score_2',\n",
    "                       'review_score_3', 'review_score_4', 'review_score_5']\n",
    "\n",
    "# Vérifier que les colonnes requises existent dans F2\n",
    "missing_columns = [col for col in F2_required_columns if col not in F2.columns]\n",
    "if missing_columns:\n",
    "    raise ValueError(f\"Les colonnes suivantes sont manquantes dans le dataset F2 : {missing_columns}\")\n",
    "\n",
    "# Initialize the scaler\n",
    "scaler_1 = StandardScaler()\n",
    "F2_scaled = scaler_1.fit_transform(F2[F2_required_columns])\n",
    "\n",
    "# Initialisation du modèle K-Means\n",
    "n_clusters = 4  # Définir le nombre de clusters souhaités (ici, 4)\n",
    "M2 = KMeans(n_clusters=n_clusters, random_state=42)  # Initialiser le modèle K-Means avec 4 clusters et un état aléatoire fixe pour reproductibilité\n",
    "\n",
    "# Ajuster le modèle K-Means sur les colonnes spécifiées et assigner les clusters\n",
    "F2['C2'] = M2.fit_predict(F2_scaled)  # Les colonnes spécifiées sont utilisées comme variables pour le clustering.\n",
    "\n",
    "# Sauvegarder le DataFrame enrichi avec les clusters\n",
    "F2.to_csv('F2_with_clusters.csv', index=False, encoding='utf-8')  # Sauvegarder F2 dans un fichier CSV avec la nouvelle colonne `C2`.\n",
    "\n",
    "print(\"Modèle M2 entraîné et F2 enrichi avec les clusters. Une nouvelle colonne C2 a été ajoutée au dataset F2, et le fichier F2_with_clusters.csv a été sauvegardé.\")\n"
   ]
  },
  {
   "cell_type": "code",
   "execution_count": 35,
   "id": "94786eb9-df8e-413c-8a5b-7c165e48e44f",
   "metadata": {},
   "outputs": [
    {
     "name": "stdout",
     "output_type": "stream",
     "text": [
      "Dates dans F2 :\n",
      "Min : 2016-10-04 23:26:51\n",
      "Max : 2018-01-10 23:58:35\n",
      "Les clusters prédits avec le modèle [M0] ont été ajoutés à F2 sous la colonne 'C0_2'.\n",
      "Le fichier enrichi a été exporté sous le nom : F2_with_C02_clusters.csv\n"
     ]
    }
   ],
   "source": [
    "from sklearn.cluster import KMeans\n",
    "from sklearn.preprocessing import StandardScaler\n",
    "import pandas as pd\n",
    "\n",
    "# Charger les données de F2\n",
    "F2 = pd.read_csv('F2_dataset.csv')\n",
    "\n",
    "# Vérifier les dates minimales et maximales dans F2\n",
    "print(f\"Dates dans F2 :\")\n",
    "print(f\"Min : {F2['order_purchase_timestamp'].min()}\")\n",
    "print(f\"Max : {F2['order_purchase_timestamp'].max()}\")\n",
    "\n",
    "# Vérifier que les colonnes nécessaires sont présentes\n",
    "required_columns = ['recency', 'frequency', 'monetary',\n",
    "                    'review_score_1', 'review_score_2',\n",
    "                    'review_score_3', 'review_score_4', 'review_score_5']\n",
    "\n",
    "missing_columns = [col for col in required_columns if col not in F2.columns]\n",
    "if missing_columns:\n",
    "    raise ValueError(f\"Les colonnes suivantes sont manquantes dans F2 : {missing_columns}\")\n",
    "\n",
    "\n",
    "# Étape 2 : Standardiser F2 en utilisant le scaler ajusté sur F0\n",
    "F2_scaled_with_F0 = scaler_1.transform(F2[required_columns])  # Transformer F2 avec le scaler de F0\n",
    "\n",
    "F2['C0_2'] = M0.predict(F2_scaled_with_F0)  # Ajouter une colonne 'C0_2' avec les clusters prédits\n",
    "\n",
    "# Étape 4 : Sauvegarder le DataFrame F2 enrichi avec les clusters prédits\n",
    "output_file = 'F2_with_C02_clusters.csv'\n",
    "F2.to_csv(output_file, index=False, encoding='utf-8')\n",
    "\n",
    "# Afficher les résultats\n",
    "print(f\"Les clusters prédits avec le modèle [M0] ont été ajoutés à F2 sous la colonne 'C0_2'.\")\n",
    "print(f\"Le fichier enrichi a été exporté sous le nom : {output_file}\")\n"
   ]
  },
  {
   "cell_type": "markdown",
   "id": "37cbe169-e9a1-46b7-8435-c0d8191196a6",
   "metadata": {},
   "source": [
    "## ARI #[2]"
   ]
  },
  {
   "cell_type": "code",
   "execution_count": 36,
   "id": "9c36d40d-5322-42d3-8e7b-5eb46db7dc89",
   "metadata": {},
   "outputs": [
    {
     "data": {
      "text/plain": [
       "Index(['order_id', 'order_item_id', 'product_id', 'seller_id',\n",
       "       'shipping_limit_date', 'price', 'freight_value', 'customer_id',\n",
       "       'order_status', 'order_purchase_timestamp', 'order_approved_at',\n",
       "       'order_delivered_carrier_date', 'order_delivered_customer_date',\n",
       "       'order_estimated_delivery_date', 'product_category_name',\n",
       "       'product_name_lenght', 'product_description_lenght',\n",
       "       'product_photos_qty', 'product_weight_g', 'product_length_cm',\n",
       "       'product_height_cm', 'product_width_cm', 'customer_unique_id',\n",
       "       'customer_zip_code_prefix', 'customer_city', 'customer_state',\n",
       "       'recency', 'frequency', 'monetary', 'review_score_1', 'review_score_2',\n",
       "       'review_score_3', 'review_score_4', 'review_score_5', 'C0_2'],\n",
       "      dtype='object')"
      ]
     },
     "execution_count": 36,
     "metadata": {},
     "output_type": "execute_result"
    }
   ],
   "source": [
    "C0_2 = pd.read_csv('F2_with_C02_clusters.csv')\n",
    "C0_2.columns"
   ]
  },
  {
   "cell_type": "code",
   "execution_count": 37,
   "id": "25079035-a8c8-4e6c-9603-6abb41dd0733",
   "metadata": {},
   "outputs": [
    {
     "data": {
      "text/plain": [
       "Index(['order_id', 'order_item_id', 'product_id', 'seller_id',\n",
       "       'shipping_limit_date', 'price', 'freight_value', 'customer_id',\n",
       "       'order_status', 'order_purchase_timestamp', 'order_approved_at',\n",
       "       'order_delivered_carrier_date', 'order_delivered_customer_date',\n",
       "       'order_estimated_delivery_date', 'product_category_name',\n",
       "       'product_name_lenght', 'product_description_lenght',\n",
       "       'product_photos_qty', 'product_weight_g', 'product_length_cm',\n",
       "       'product_height_cm', 'product_width_cm', 'customer_unique_id',\n",
       "       'customer_zip_code_prefix', 'customer_city', 'customer_state',\n",
       "       'recency', 'frequency', 'monetary', 'review_score_1', 'review_score_2',\n",
       "       'review_score_3', 'review_score_4', 'review_score_5', 'C2'],\n",
       "      dtype='object')"
      ]
     },
     "execution_count": 37,
     "metadata": {},
     "output_type": "execute_result"
    }
   ],
   "source": [
    "C2 = pd.read_csv('F2_with_clusters.csv')\n",
    "C2.columns"
   ]
  },
  {
   "cell_type": "code",
   "execution_count": 38,
   "id": "cd3fa5e9-d07c-4544-9538-efb7d0525936",
   "metadata": {},
   "outputs": [
    {
     "name": "stdout",
     "output_type": "stream",
     "text": [
      "Indice de Rand Ajusté (ARI) entre M2 et M0 sur F2 : 0.4125\n"
     ]
    }
   ],
   "source": [
    "import pandas as pd\n",
    "from sklearn.metrics import adjusted_rand_score\n",
    "\n",
    "# Calcul de l'ARI entre C2 et C0_2 - On compare l'application du Modele M0 (C0_2) sur les données F2 AVEC le modele frais F2 (C2)\n",
    "ari_score = adjusted_rand_score(C2['C2'], C0_2['C0_2'])\n",
    "\n",
    "# Afficher le score ARI\n",
    "print(f\"Indice de Rand Ajusté (ARI) entre M2 et M0 sur F2 : {ari_score:.4f}\")"
   ]
  },
  {
   "cell_type": "markdown",
   "id": "842b72b7-d6b5-45e0-921e-a7cf253a76cf",
   "metadata": {},
   "source": [
    "## K means [M3]"
   ]
  },
  {
   "cell_type": "code",
   "execution_count": null,
   "id": "1865ee97-130b-4053-894c-1a38327ee669",
   "metadata": {},
   "outputs": [
    {
     "name": "stdout",
     "output_type": "stream",
     "text": [
      "Dates dans F3 :\n",
      "Min : 2016-10-04 23:26:51\n",
      "Max : 2018-01-15 23:58:47\n",
      "Modèle M3 entraîné et F3 enrichi avec les clusters. Une nouvelle colonne C3 a été ajoutée au dataset F3, et le fichier F3_with_clusters.csv a été sauvegardé.\n"
     ]
    }
   ],
   "source": [
    "from sklearn.cluster import KMeans\n",
    "import pandas as pd\n",
    "from sklearn.preprocessing import StandardScaler\n",
    "\n",
    "# Charger le dataset F3 depuis un fichier CSV \n",
    "F3 = pd.read_csv('F3_dataset.csv', encoding='utf-8')\n",
    "\n",
    "# Vérifier les dates minimales et maximales dans F3\n",
    "print(f\"Dates dans F3 :\")\n",
    "print(f\"Min : {F3['order_purchase_timestamp'].min()}\")\n",
    "print(f\"Max : {F3['order_purchase_timestamp'].max()}\")\n",
    "\n",
    "\n",
    "# Définir les colonnes requises pour F3 (identiques à celles utilisées pour F0)\n",
    "F3_required_columns = ['recency', 'frequency', 'monetary',\n",
    "                       'review_score_1', 'review_score_2',\n",
    "                       'review_score_3', 'review_score_4', 'review_score_5']\n",
    "\n",
    "# Vérifier que les colonnes requises existent dans F3\n",
    "missing_columns = [col for col in F3_required_columns if col not in F3.columns]\n",
    "if missing_columns:\n",
    "    raise ValueError(f\"Les colonnes suivantes sont manquantes dans le dataset F3 : {missing_columns}\")\n",
    "\n",
    "# Initialize the scaler\n",
    "scaler_3 = StandardScaler()\n",
    "F3_scaled = scaler_3.fit_transform(F3[F3_required_columns])\n",
    "\n",
    "# Initialisation du modèle K-Means\n",
    "n_clusters = 4  # Définir le nombre de clusters souhaités (ici, 4)\n",
    "M3 = KMeans(n_clusters=n_clusters, random_state=42)  # Initialiser le modèle K-Means avec 4 clusters et un état aléatoire fixe pour reproductibilité\n",
    "\n",
    "# Ajuster le modèle K-Means sur les colonnes spécifiées et assigner les clusters\n",
    "F3['C3'] = M3.fit_predict(F3_scaled)  # Les colonnes spécifiées sont utilisées comme variables pour le clustering.\n",
    "\n",
    "# Sauvegarder le DataFrame enrichi avec les clusters\n",
    "F3.to_csv('F3_with_clusters.csv', index=False, encoding='utf-8')  # Sauvegarder F3 dans un fichier CSV avec la nouvelle colonne `C3`.\n",
    "\n",
    "print(\"Modèle M3 entraîné et F3 enrichi avec les clusters. Une nouvelle colonne C3 a été ajoutée au dataset F3, et le fichier F3_with_clusters.csv a été sauvegardé.\")\n"
   ]
  },
  {
   "cell_type": "code",
   "execution_count": 40,
   "id": "417d2475-086a-432a-969a-9478a07db03c",
   "metadata": {},
   "outputs": [
    {
     "name": "stdout",
     "output_type": "stream",
     "text": [
      "Dates dans F3 :\n",
      "Min : 2016-10-04 23:26:51\n",
      "Max : 2018-01-15 23:58:47\n",
      "Les clusters prédits avec le modèle [M0] ont été ajoutés à F3 sous la colonne 'C0_3'.\n",
      "Le fichier enrichi a été exporté sous le nom : F3_with_C03_clusters.csv\n"
     ]
    }
   ],
   "source": [
    "from sklearn.cluster import KMeans\n",
    "from sklearn.preprocessing import StandardScaler\n",
    "import pandas as pd\n",
    "\n",
    "# Charger les données de F3\n",
    "F3 = pd.read_csv('F3_dataset.csv')\n",
    "\n",
    "# Vérifier les dates minimales et maximales dans F3\n",
    "print(f\"Dates dans F3 :\")\n",
    "print(f\"Min : {F3['order_purchase_timestamp'].min()}\")\n",
    "print(f\"Max : {F3['order_purchase_timestamp'].max()}\")\n",
    "\n",
    "# Vérifier que les colonnes nécessaires sont présentes\n",
    "required_columns = ['recency', 'frequency', 'monetary',\n",
    "                    'review_score_1', 'review_score_2',\n",
    "                    'review_score_3', 'review_score_4', 'review_score_5']\n",
    "\n",
    "missing_columns = [col for col in required_columns if col not in F3.columns]\n",
    "if missing_columns:\n",
    "    raise ValueError(f\"Les colonnes suivantes sont manquantes dans F3 : {missing_columns}\")\n",
    "\n",
    "\n",
    "# Étape 2 : Standardiser F3 en utilisant le scaler ajusté sur F0\n",
    "F3_scaled_with_F0 = scaler_3.transform(F3[required_columns])  # Transformer F3 avec le scaler de F0\n",
    "\n",
    "F3['C0_3'] = M0.predict(F3_scaled_with_F0)  # Ajouter une colonne 'C0_3' avec les clusters prédits\n",
    "\n",
    "# Étape 4 : Sauvegarder le DataFrame F3 enrichi avec les clusters prédits\n",
    "output_file = 'F3_with_C03_clusters.csv'\n",
    "F3.to_csv(output_file, index=False, encoding='utf-8')\n",
    "\n",
    "# Afficher les résultats\n",
    "print(f\"Les clusters prédits avec le modèle [M0] ont été ajoutés à F3 sous la colonne 'C0_3'.\")\n",
    "print(f\"Le fichier enrichi a été exporté sous le nom : {output_file}\")\n"
   ]
  },
  {
   "cell_type": "markdown",
   "id": "f536bcf9-e807-4a18-a453-0b036b22f9ab",
   "metadata": {},
   "source": [
    "## ARI #[3]"
   ]
  },
  {
   "cell_type": "code",
   "execution_count": 41,
   "id": "c618bf47-0594-4475-83ae-95ea9f0486f8",
   "metadata": {},
   "outputs": [
    {
     "data": {
      "text/plain": [
       "Index(['order_id', 'order_item_id', 'product_id', 'seller_id',\n",
       "       'shipping_limit_date', 'price', 'freight_value', 'customer_id',\n",
       "       'order_status', 'order_purchase_timestamp', 'order_approved_at',\n",
       "       'order_delivered_carrier_date', 'order_delivered_customer_date',\n",
       "       'order_estimated_delivery_date', 'product_category_name',\n",
       "       'product_name_lenght', 'product_description_lenght',\n",
       "       'product_photos_qty', 'product_weight_g', 'product_length_cm',\n",
       "       'product_height_cm', 'product_width_cm', 'customer_unique_id',\n",
       "       'customer_zip_code_prefix', 'customer_city', 'customer_state',\n",
       "       'recency', 'frequency', 'monetary', 'review_score_1', 'review_score_2',\n",
       "       'review_score_3', 'review_score_4', 'review_score_5', 'C0_3'],\n",
       "      dtype='object')"
      ]
     },
     "execution_count": 41,
     "metadata": {},
     "output_type": "execute_result"
    }
   ],
   "source": [
    "C0_3 = pd.read_csv('F3_with_C03_clusters.csv')\n",
    "C0_3.columns"
   ]
  },
  {
   "cell_type": "code",
   "execution_count": 42,
   "id": "497059ab-b6bb-40c8-89cb-961d85c228cc",
   "metadata": {},
   "outputs": [
    {
     "data": {
      "text/plain": [
       "Index(['order_id', 'order_item_id', 'product_id', 'seller_id',\n",
       "       'shipping_limit_date', 'price', 'freight_value', 'customer_id',\n",
       "       'order_status', 'order_purchase_timestamp', 'order_approved_at',\n",
       "       'order_delivered_carrier_date', 'order_delivered_customer_date',\n",
       "       'order_estimated_delivery_date', 'product_category_name',\n",
       "       'product_name_lenght', 'product_description_lenght',\n",
       "       'product_photos_qty', 'product_weight_g', 'product_length_cm',\n",
       "       'product_height_cm', 'product_width_cm', 'customer_unique_id',\n",
       "       'customer_zip_code_prefix', 'customer_city', 'customer_state',\n",
       "       'recency', 'frequency', 'monetary', 'review_score_1', 'review_score_2',\n",
       "       'review_score_3', 'review_score_4', 'review_score_5', 'C3'],\n",
       "      dtype='object')"
      ]
     },
     "execution_count": 42,
     "metadata": {},
     "output_type": "execute_result"
    }
   ],
   "source": [
    "C3 = pd.read_csv('F3_with_clusters.csv')\n",
    "C3.columns"
   ]
  },
  {
   "cell_type": "code",
   "execution_count": 43,
   "id": "34868c85-c5ea-4a45-a809-14b03cc144ff",
   "metadata": {},
   "outputs": [
    {
     "name": "stdout",
     "output_type": "stream",
     "text": [
      "Indice de Rand Ajusté (ARI) entre M3 et M0 sur F3 : 0.4695\n"
     ]
    }
   ],
   "source": [
    "import pandas as pd\n",
    "from sklearn.metrics import adjusted_rand_score\n",
    "\n",
    "# Calcul de l'ARI entre C3 et C0_3 - On compare l'application du Modele M0 (C0_3) sur les données F3 AVEC le modele frais F3 (C3)\n",
    "ari_score = adjusted_rand_score(C3['C3'], C0_3['C0_3'])\n",
    "\n",
    "# Afficher le score ARI\n",
    "print(f\"Indice de Rand Ajusté (ARI) entre M3 et M0 sur F3 : {ari_score:.4f}\")"
   ]
  },
  {
   "cell_type": "markdown",
   "id": "c4975898-444a-4bc9-af89-8cd312bf53b1",
   "metadata": {},
   "source": [
    "## K means [M4]"
   ]
  },
  {
   "cell_type": "code",
   "execution_count": null,
   "id": "e17777db-4fe6-48e5-afff-d1a79b0b0bb4",
   "metadata": {},
   "outputs": [
    {
     "name": "stdout",
     "output_type": "stream",
     "text": [
      "Dates dans F4 :\n",
      "Min : 2016-10-04 23:26:51\n",
      "Max : 2018-01-20 23:58:24\n",
      "Modèle M4 entraîné et F4 enrichi avec les clusters. Une nouvelle colonne C4 a été ajoutée au dataset F4, et le fichier F4_with_clusters.csv a été sauvegardé.\n"
     ]
    }
   ],
   "source": [
    "from sklearn.cluster import KMeans\n",
    "import pandas as pd\n",
    "from sklearn.preprocessing import StandardScaler\n",
    "\n",
    "# Charger le dataset F4 depuis un fichier CSV \n",
    "F4 = pd.read_csv('F4_dataset.csv', encoding='utf-8')\n",
    "\n",
    "# Vérifier les dates minimales et maximales dans F4\n",
    "print(f\"Dates dans F4 :\")\n",
    "print(f\"Min : {F4['order_purchase_timestamp'].min()}\")\n",
    "print(f\"Max : {F4['order_purchase_timestamp'].max()}\")\n",
    "\n",
    "\n",
    "# Définir les colonnes requises pour F4 (identiques à celles utilisées pour F0)\n",
    "F4_required_columns = ['recency', 'frequency', 'monetary',\n",
    "                       'review_score_1', 'review_score_2',\n",
    "                       'review_score_3', 'review_score_4', 'review_score_5']\n",
    "\n",
    "# Vérifier que les colonnes requises existent dans F4\n",
    "missing_columns = [col for col in F4_required_columns if col not in F4.columns]\n",
    "if missing_columns:\n",
    "    raise ValueError(f\"Les colonnes suivantes sont manquantes dans le dataset F4 : {missing_columns}\")\n",
    "\n",
    "# Initialize the scaler\n",
    "scaler_4 = StandardScaler()\n",
    "F4_scaled = scaler_4.fit_transform(F4[F4_required_columns])\n",
    "\n",
    "# Initialisation du modèle K-Means\n",
    "n_clusters = 4  # Définir le nombre de clusters souhaités (ici, 4)\n",
    "M4 = KMeans(n_clusters=n_clusters, random_state=42)  # Initialiser le modèle K-Means avec 4 clusters et un état aléatoire fixe pour reproductibilité\n",
    "\n",
    "# Ajuster le modèle K-Means sur les colonnes spécifiées et assigner les clusters\n",
    "F4['C4'] = M4.fit_predict(F4_scaled)  # Les colonnes spécifiées sont utilisées comme variables pour le clustering.\n",
    "\n",
    "# Sauvegarder le DataFrame enrichi avec les clusters\n",
    "F4.to_csv('F4_with_clusters.csv', index=False, encoding='utf-8')  # Sauvegarder F4 dans un fichier CSV avec la nouvelle colonne `C4`.\n",
    "\n",
    "print(\"Modèle M4 entraîné et F4 enrichi avec les clusters. Une nouvelle colonne C4 a été ajoutée au dataset F4, et le fichier F4_with_clusters.csv a été sauvegardé.\")\n"
   ]
  },
  {
   "cell_type": "code",
   "execution_count": 65,
   "id": "1fc549f8-0fa1-4921-92eb-99b09932451e",
   "metadata": {},
   "outputs": [
    {
     "name": "stdout",
     "output_type": "stream",
     "text": [
      "Dates dans F4 :\n",
      "Min : 2016-10-04 23:26:51\n",
      "Max : 2018-01-20 23:58:24\n",
      "Les clusters prédits avec le modèle [M0] ont été ajoutés à F4 sous la colonne 'C0_4'.\n",
      "Le fichier enrichi a été exporté sous le nom : F4_with_C04_clusters.csv\n"
     ]
    }
   ],
   "source": [
    "from sklearn.cluster import KMeans\n",
    "from sklearn.preprocessing import StandardScaler\n",
    "import pandas as pd\n",
    "\n",
    "# Charger les données de F4\n",
    "F4 = pd.read_csv('F4_dataset.csv')\n",
    "\n",
    "# Vérifier les dates minimales et maximales dans F4\n",
    "print(f\"Dates dans F4 :\")\n",
    "print(f\"Min : {F4['order_purchase_timestamp'].min()}\")\n",
    "print(f\"Max : {F4['order_purchase_timestamp'].max()}\")\n",
    "\n",
    "# Vérifier que les colonnes nécessaires sont présentes\n",
    "required_columns = ['recency', 'frequency', 'monetary',\n",
    "                    'review_score_1', 'review_score_2',\n",
    "                    'review_score_3', 'review_score_4', 'review_score_5']\n",
    "\n",
    "missing_columns = [col for col in required_columns if col not in F4.columns]\n",
    "if missing_columns:\n",
    "    raise ValueError(f\"Les colonnes suivantes sont manquantes dans F4 : {missing_columns}\")\n",
    "\n",
    "\n",
    "# Étape 2 : Standardiser F4 en utilisant le scaler ajusté sur F0\n",
    "F4_scaled_with_F0 = scaler_4.transform(F4[required_columns])  # Transformer F4 avec le scaler de F0\n",
    "\n",
    "F4['C0_4'] = M0.predict(F4_scaled_with_F0)  # Ajouter une colonne 'C0_4' avec les clusters prédits\n",
    "\n",
    "# Étape 4 : Sauvegarder le DataFrame F4 enrichi avec les clusters prédits\n",
    "output_file = 'F4_with_C04_clusters.csv'\n",
    "F4.to_csv(output_file, index=False, encoding='utf-8')\n",
    "\n",
    "# Afficher les résultats\n",
    "print(f\"Les clusters prédits avec le modèle [M0] ont été ajoutés à F4 sous la colonne 'C0_4'.\")\n",
    "print(f\"Le fichier enrichi a été exporté sous le nom : {output_file}\")\n"
   ]
  },
  {
   "cell_type": "markdown",
   "id": "78db43c4-89dc-4eaa-8f39-bd0e5a608653",
   "metadata": {},
   "source": [
    "## ARI #[4]"
   ]
  },
  {
   "cell_type": "code",
   "execution_count": 66,
   "id": "847a403e-dbf2-4bad-91e9-6182f3ca25f1",
   "metadata": {},
   "outputs": [
    {
     "data": {
      "text/plain": [
       "Index(['order_id', 'order_item_id', 'product_id', 'seller_id',\n",
       "       'shipping_limit_date', 'price', 'freight_value', 'customer_id',\n",
       "       'order_status', 'order_purchase_timestamp', 'order_approved_at',\n",
       "       'order_delivered_carrier_date', 'order_delivered_customer_date',\n",
       "       'order_estimated_delivery_date', 'product_category_name',\n",
       "       'product_name_lenght', 'product_description_lenght',\n",
       "       'product_photos_qty', 'product_weight_g', 'product_length_cm',\n",
       "       'product_height_cm', 'product_width_cm', 'customer_unique_id',\n",
       "       'customer_zip_code_prefix', 'customer_city', 'customer_state',\n",
       "       'recency', 'frequency', 'monetary', 'review_score_1', 'review_score_2',\n",
       "       'review_score_3', 'review_score_4', 'review_score_5', 'C0_4'],\n",
       "      dtype='object')"
      ]
     },
     "execution_count": 66,
     "metadata": {},
     "output_type": "execute_result"
    }
   ],
   "source": [
    "C0_4 = pd.read_csv('F4_with_C04_clusters.csv')\n",
    "C0_4.columns"
   ]
  },
  {
   "cell_type": "code",
   "execution_count": 67,
   "id": "3c514550-eb92-4a0c-afee-484bc7409a42",
   "metadata": {},
   "outputs": [
    {
     "data": {
      "text/plain": [
       "Index(['order_id', 'order_item_id', 'product_id', 'seller_id',\n",
       "       'shipping_limit_date', 'price', 'freight_value', 'customer_id',\n",
       "       'order_status', 'order_purchase_timestamp', 'order_approved_at',\n",
       "       'order_delivered_carrier_date', 'order_delivered_customer_date',\n",
       "       'order_estimated_delivery_date', 'product_category_name',\n",
       "       'product_name_lenght', 'product_description_lenght',\n",
       "       'product_photos_qty', 'product_weight_g', 'product_length_cm',\n",
       "       'product_height_cm', 'product_width_cm', 'customer_unique_id',\n",
       "       'customer_zip_code_prefix', 'customer_city', 'customer_state',\n",
       "       'recency', 'frequency', 'monetary', 'review_score_1', 'review_score_2',\n",
       "       'review_score_3', 'review_score_4', 'review_score_5', 'C4'],\n",
       "      dtype='object')"
      ]
     },
     "execution_count": 67,
     "metadata": {},
     "output_type": "execute_result"
    }
   ],
   "source": [
    "C4 = pd.read_csv('F4_with_clusters.csv')\n",
    "C4.columns"
   ]
  },
  {
   "cell_type": "code",
   "execution_count": 68,
   "id": "86501f79-350e-4f91-a08b-248919ca634e",
   "metadata": {},
   "outputs": [
    {
     "name": "stdout",
     "output_type": "stream",
     "text": [
      "Indice de Rand Ajusté (ARI) entre M4 et M0 sur F1 : 0.5013\n"
     ]
    }
   ],
   "source": [
    "import pandas as pd\n",
    "from sklearn.metrics import adjusted_rand_score\n",
    "\n",
    "# Calcul de l'ARI entre C4 et C0_4 - On compare l'application du Modele M0 (C0_1) sur les données F1 AVEC le modele frais F1 (C1)\n",
    "ari_score = adjusted_rand_score(C4['C4'], C0_4['C0_4'])\n",
    "\n",
    "# Afficher le score ARI\n",
    "print(f\"Indice de Rand Ajusté (ARI) entre M4 et M0 sur F1 : {ari_score:.4f}\")"
   ]
  },
  {
   "cell_type": "markdown",
   "id": "0e5aeba8-f2bd-48a2-a006-4f620c977337",
   "metadata": {},
   "source": [
    "## K means [M5]"
   ]
  },
  {
   "cell_type": "code",
   "execution_count": null,
   "id": "29994b66-a311-498d-8aa2-1df4be7842e1",
   "metadata": {},
   "outputs": [
    {
     "name": "stdout",
     "output_type": "stream",
     "text": [
      "Dates dans F5 :\n",
      "Min : 2016-10-04 23:26:51\n",
      "Max : 2018-01-25 23:59:09\n",
      "Modèle M5 entraîné et F5 enrichi avec les clusters. Une nouvelle colonne C5 a été ajoutée au dataset F5, et le fichier F5_with_clusters.csv a été sauvegardé.\n"
     ]
    }
   ],
   "source": [
    "from sklearn.cluster import KMeans\n",
    "import pandas as pd\n",
    "from sklearn.preprocessing import StandardScaler\n",
    "\n",
    "# Charger le dataset F5 depuis un fichier CSV \n",
    "F5 = pd.read_csv('F5_dataset.csv', encoding='utf-8')\n",
    "\n",
    "# Vérifier les dates minimales et maximales dans F5\n",
    "print(f\"Dates dans F5 :\")\n",
    "print(f\"Min : {F5['order_purchase_timestamp'].min()}\")\n",
    "print(f\"Max : {F5['order_purchase_timestamp'].max()}\")\n",
    "\n",
    "\n",
    "# Définir les colonnes requises pour F5 (identiques à celles utilisées pour F0)\n",
    "F5_required_columns = ['recency', 'frequency', 'monetary',\n",
    "                       'review_score_1', 'review_score_2',\n",
    "                       'review_score_3', 'review_score_4', 'review_score_5']\n",
    "\n",
    "# Vérifier que les colonnes requises existent dans F5\n",
    "missing_columns = [col for col in F5_required_columns if col not in F5.columns]\n",
    "if missing_columns:\n",
    "    raise ValueError(f\"Les colonnes suivantes sont manquantes dans le dataset F5 : {missing_columns}\")\n",
    "\n",
    "# Initialize the scaler\n",
    "scaler = StandardScaler()\n",
    "F5_scaled = scaler.fit_transform(F5[F5_required_columns])\n",
    "\n",
    "# Initialisation du modèle K-Means\n",
    "n_clusters = 4  # Définir le nombre de clusters souhaités (ici, 4)\n",
    "M5 = KMeans(n_clusters=n_clusters, random_state=42)  # Initialiser le modèle K-Means avec 4 clusters et un état aléatoire fixe pour reproductibilité\n",
    "\n",
    "# Ajuster le modèle K-Means sur les colonnes spécifiées et assigner les clusters\n",
    "F5['C5'] = M5.fit_predict(F5_scaled)  # Les colonnes spécifiées sont utilisées comme variables pour le clustering.\n",
    "\n",
    "# Sauvegarder le DataFrame enrichi avec les clusters\n",
    "F5.to_csv('F5_with_clusters.csv', index=False, encoding='utf-8')  # Sauvegarder F5 dans un fichier CSV avec la nouvelle colonne `C5`.\n",
    "\n",
    "print(\"Modèle M5 entraîné et F5 enrichi avec les clusters. Une nouvelle colonne C5 a été ajoutée au dataset F5, et le fichier F5_with_clusters.csv a été sauvegardé.\")\n"
   ]
  },
  {
   "cell_type": "code",
   "execution_count": 70,
   "id": "230165a9-1c7f-48f9-8fa5-d4bd11827bef",
   "metadata": {},
   "outputs": [
    {
     "name": "stdout",
     "output_type": "stream",
     "text": [
      "Dates dans F5 :\n",
      "Min : 2016-10-04 23:26:51\n",
      "Max : 2018-01-25 23:59:09\n",
      "Les clusters prédits avec le modèle [M0] ont été ajoutés à F5 sous la colonne 'C0_5'.\n",
      "Le fichier enrichi a été exporté sous le nom : F5_with_C05_clusters.csv\n"
     ]
    }
   ],
   "source": [
    "from sklearn.cluster import KMeans\n",
    "from sklearn.preprocessing import StandardScaler\n",
    "import pandas as pd\n",
    "\n",
    "# Charger les données de F5\n",
    "F5 = pd.read_csv('F5_dataset.csv')\n",
    "\n",
    "# Vérifier les dates minimales et maximales dans F5\n",
    "print(f\"Dates dans F5 :\")\n",
    "print(f\"Min : {F5['order_purchase_timestamp'].min()}\")\n",
    "print(f\"Max : {F5['order_purchase_timestamp'].max()}\")\n",
    "\n",
    "# Vérifier que les colonnes nécessaires sont présentes\n",
    "required_columns = ['recency', 'frequency', 'monetary',\n",
    "                    'review_score_1', 'review_score_2',\n",
    "                    'review_score_3', 'review_score_4', 'review_score_5']\n",
    "\n",
    "missing_columns = [col for col in required_columns if col not in F5.columns]\n",
    "if missing_columns:\n",
    "    raise ValueError(f\"Les colonnes suivantes sont manquantes dans F5 : {missing_columns}\")\n",
    "\n",
    "\n",
    "# Étape 2 : Standardiser F5 en utilisant le scaler ajusté sur F0\n",
    "F5_scaled_with_F0 = scaler.transform(F5[required_columns])  # Transformer F5 avec le scaler de F0\n",
    "\n",
    "F5['C0_5'] = M0.predict(F5_scaled_with_F0)  # Ajouter une colonne 'C0_5' avec les clusters prédits\n",
    "\n",
    "# Étape 4 : Sauvegarder le DataFrame F5 enrichi avec les clusters prédits\n",
    "output_file = 'F5_with_C05_clusters.csv'\n",
    "F5.to_csv(output_file, index=False, encoding='utf-8')\n",
    "\n",
    "# Afficher les résultats\n",
    "print(f\"Les clusters prédits avec le modèle [M0] ont été ajoutés à F5 sous la colonne 'C0_5'.\")\n",
    "print(f\"Le fichier enrichi a été exporté sous le nom : {output_file}\")\n"
   ]
  },
  {
   "cell_type": "markdown",
   "id": "0eccecc0-dc33-40cb-b89f-29b54991aa70",
   "metadata": {},
   "source": [
    "## ARI #[5]"
   ]
  },
  {
   "cell_type": "code",
   "execution_count": 71,
   "id": "af336a12-ddc7-4c7f-af93-d7da1a1e68a7",
   "metadata": {},
   "outputs": [
    {
     "data": {
      "text/plain": [
       "Index(['order_id', 'order_item_id', 'product_id', 'seller_id',\n",
       "       'shipping_limit_date', 'price', 'freight_value', 'customer_id',\n",
       "       'order_status', 'order_purchase_timestamp', 'order_approved_at',\n",
       "       'order_delivered_carrier_date', 'order_delivered_customer_date',\n",
       "       'order_estimated_delivery_date', 'product_category_name',\n",
       "       'product_name_lenght', 'product_description_lenght',\n",
       "       'product_photos_qty', 'product_weight_g', 'product_length_cm',\n",
       "       'product_height_cm', 'product_width_cm', 'customer_unique_id',\n",
       "       'customer_zip_code_prefix', 'customer_city', 'customer_state',\n",
       "       'recency', 'frequency', 'monetary', 'review_score_1', 'review_score_2',\n",
       "       'review_score_3', 'review_score_4', 'review_score_5', 'C0_5'],\n",
       "      dtype='object')"
      ]
     },
     "execution_count": 71,
     "metadata": {},
     "output_type": "execute_result"
    }
   ],
   "source": [
    "C0_5 = pd.read_csv('F5_with_C05_clusters.csv')\n",
    "C0_5.columns"
   ]
  },
  {
   "cell_type": "code",
   "execution_count": 72,
   "id": "f1cdfa46-b20d-49fc-95aa-09451144db65",
   "metadata": {},
   "outputs": [
    {
     "data": {
      "text/plain": [
       "Index(['order_id', 'order_item_id', 'product_id', 'seller_id',\n",
       "       'shipping_limit_date', 'price', 'freight_value', 'customer_id',\n",
       "       'order_status', 'order_purchase_timestamp', 'order_approved_at',\n",
       "       'order_delivered_carrier_date', 'order_delivered_customer_date',\n",
       "       'order_estimated_delivery_date', 'product_category_name',\n",
       "       'product_name_lenght', 'product_description_lenght',\n",
       "       'product_photos_qty', 'product_weight_g', 'product_length_cm',\n",
       "       'product_height_cm', 'product_width_cm', 'customer_unique_id',\n",
       "       'customer_zip_code_prefix', 'customer_city', 'customer_state',\n",
       "       'recency', 'frequency', 'monetary', 'review_score_1', 'review_score_2',\n",
       "       'review_score_3', 'review_score_4', 'review_score_5', 'C5'],\n",
       "      dtype='object')"
      ]
     },
     "execution_count": 72,
     "metadata": {},
     "output_type": "execute_result"
    }
   ],
   "source": [
    "C5 = pd.read_csv('F5_with_clusters.csv')\n",
    "C5.columns"
   ]
  },
  {
   "cell_type": "code",
   "execution_count": 73,
   "id": "3ff99cad-d1ba-4a6c-a22a-a7e331507563",
   "metadata": {},
   "outputs": [
    {
     "name": "stdout",
     "output_type": "stream",
     "text": [
      "Indice de Rand Ajusté (ARI) entre M5 et M0 sur F5: 0.4715\n"
     ]
    }
   ],
   "source": [
    "import pandas as pd\n",
    "from sklearn.metrics import adjusted_rand_score\n",
    "\n",
    "# Calcul de l'ARI entre C5 et C0_5 - On compare l'application du Modele M0 (C0_5) sur les données F5 AVEC le modele frais F5 (C5)\n",
    "ari_score = adjusted_rand_score(C5['C5'], C0_5['C0_5'])\n",
    "\n",
    "# Afficher le score ARI\n",
    "print(f\"Indice de Rand Ajusté (ARI) entre M5 et M0 sur F5: {ari_score:.4f}\")"
   ]
  },
  {
   "cell_type": "markdown",
   "id": "e55bb449-3424-4fc9-8f85-14ff39d42786",
   "metadata": {},
   "source": [
    "## K means [M6]"
   ]
  },
  {
   "cell_type": "code",
   "execution_count": null,
   "id": "e570c40e-8ad9-4a02-84f0-3a5fbbfc7ab2",
   "metadata": {},
   "outputs": [
    {
     "name": "stdout",
     "output_type": "stream",
     "text": [
      "Dates dans F6 :\n",
      "Min : 2016-10-04 23:26:51\n",
      "Max : 2018-01-30 23:59:43\n",
      "Modèle M6 entraîné et F6 enrichi avec les clusters. Une nouvelle colonne C6 a été ajoutée au dataset F6, et le fichier F6_with_clusters.csv a été sauvegardé.\n"
     ]
    }
   ],
   "source": [
    "from sklearn.cluster import KMeans\n",
    "import pandas as pd\n",
    "from sklearn.preprocessing import StandardScaler\n",
    "\n",
    "# Charger le dataset F6 depuis un fichier CSV \n",
    "F6 = pd.read_csv('F6_dataset.csv', encoding='utf-8')\n",
    "\n",
    "# Vérifier les dates minimales et maximales dans F6\n",
    "print(f\"Dates dans F6 :\")\n",
    "print(f\"Min : {F6['order_purchase_timestamp'].min()}\")\n",
    "print(f\"Max : {F6['order_purchase_timestamp'].max()}\")\n",
    "\n",
    "\n",
    "# Définir les colonnes requises pour F6 (identiques à celles utilisées pour F0)\n",
    "F6_required_columns = ['recency', 'frequency', 'monetary',\n",
    "                       'review_score_1', 'review_score_2',\n",
    "                       'review_score_3', 'review_score_4', 'review_score_5']\n",
    "\n",
    "# Vérifier que les colonnes requises existent dans F6\n",
    "missing_columns = [col for col in F6_required_columns if col not in F6.columns]\n",
    "if missing_columns:\n",
    "    raise ValueError(f\"Les colonnes suivantes sont manquantes dans le dataset F6 : {missing_columns}\")\n",
    "\n",
    "# Initialize the scaler\n",
    "scaler = StandardScaler()\n",
    "F6_scaled = scaler.fit_transform(F6[F6_required_columns])\n",
    "\n",
    "# Initialisation du modèle K-Means\n",
    "n_clusters = 4  # Définir le nombre de clusters souhaités (ici, 4)\n",
    "M6 = KMeans(n_clusters=n_clusters, random_state=42)  # Initialiser le modèle K-Means avec 4 clusters et un état aléatoire fixe pour reproductibilité\n",
    "\n",
    "# Ajuster le modèle K-Means sur les colonnes spécifiées et assigner les clusters\n",
    "F6['C6'] = M6.fit_predict(F6_scaled)  # Les colonnes spécifiées sont utilisées comme variables pour le clustering.\n",
    "\n",
    "# Sauvegarder le DataFrame enrichi avec les clusters\n",
    "F6.to_csv('F6_with_clusters.csv', index=False, encoding='utf-8')  # Sauvegarder F6 dans un fichier CSV avec la nouvelle colonne `C6`.\n",
    "\n",
    "print(\"Modèle M6 entraîné et F6 enrichi avec les clusters. Une nouvelle colonne C6 a été ajoutée au dataset F6, et le fichier F6_with_clusters.csv a été sauvegardé.\")\n"
   ]
  },
  {
   "cell_type": "code",
   "execution_count": 55,
   "id": "742dd115-fff2-4cb1-b343-6f783b2d4487",
   "metadata": {},
   "outputs": [
    {
     "name": "stdout",
     "output_type": "stream",
     "text": [
      "Dates dans F6 :\n",
      "Min : 2016-10-04 23:26:51\n",
      "Max : 2018-01-30 23:59:43\n",
      "Les clusters prédits avec le modèle [M0] ont été ajoutés à F6 sous la colonne 'C0_6'.\n",
      "Le fichier enrichi a été exporté sous le nom : F6_with_C06_clusters.csv\n"
     ]
    }
   ],
   "source": [
    "from sklearn.cluster import KMeans\n",
    "from sklearn.preprocessing import StandardScaler\n",
    "import pandas as pd\n",
    "\n",
    "# Charger les données de F6\n",
    "F6 = pd.read_csv('F6_dataset.csv')\n",
    "\n",
    "# Vérifier les dates minimales et maximales dans F6\n",
    "print(f\"Dates dans F6 :\")\n",
    "print(f\"Min : {F6['order_purchase_timestamp'].min()}\")\n",
    "print(f\"Max : {F6['order_purchase_timestamp'].max()}\")\n",
    "\n",
    "# Vérifier que les colonnes nécessaires sont présentes\n",
    "required_columns = ['recency', 'frequency', 'monetary',\n",
    "                    'review_score_1', 'review_score_2',\n",
    "                    'review_score_3', 'review_score_4', 'review_score_5']\n",
    "\n",
    "missing_columns = [col for col in required_columns if col not in F6.columns]\n",
    "if missing_columns:\n",
    "    raise ValueError(f\"Les colonnes suivantes sont manquantes dans F6 : {missing_columns}\")\n",
    "\n",
    "\n",
    "# Étape 2 : Standardiser F6 en utilisant le scaler ajusté sur F0\n",
    "F6_scaled_with_F0 = scaler.transform(F6[required_columns])  # Transformer F6 avec le scaler de F0\n",
    "\n",
    "F6['C0_6'] = M0.predict(F6_scaled_with_F0)  # Ajouter une colonne 'C0_6' avec les clusters prédits\n",
    "\n",
    "# Étape 4 : Sauvegarder le DataFrame F6 enrichi avec les clusters prédits\n",
    "output_file = 'F6_with_C06_clusters.csv'\n",
    "F6.to_csv(output_file, index=False, encoding='utf-8')\n",
    "\n",
    "# Afficher les résultats\n",
    "print(f\"Les clusters prédits avec le modèle [M0] ont été ajoutés à F6 sous la colonne 'C0_6'.\")\n",
    "print(f\"Le fichier enrichi a été exporté sous le nom : {output_file}\")\n"
   ]
  },
  {
   "cell_type": "markdown",
   "id": "4e62952b-cd21-4cef-b941-ccd778232fdb",
   "metadata": {},
   "source": [
    "## ARI #[6]"
   ]
  },
  {
   "cell_type": "code",
   "execution_count": 56,
   "id": "1c9f6b61-a4ba-43fc-a9cc-0bcdfe7749b8",
   "metadata": {},
   "outputs": [
    {
     "data": {
      "text/plain": [
       "Index(['order_id', 'order_item_id', 'product_id', 'seller_id',\n",
       "       'shipping_limit_date', 'price', 'freight_value', 'customer_id',\n",
       "       'order_status', 'order_purchase_timestamp', 'order_approved_at',\n",
       "       'order_delivered_carrier_date', 'order_delivered_customer_date',\n",
       "       'order_estimated_delivery_date', 'product_category_name',\n",
       "       'product_name_lenght', 'product_description_lenght',\n",
       "       'product_photos_qty', 'product_weight_g', 'product_length_cm',\n",
       "       'product_height_cm', 'product_width_cm', 'customer_unique_id',\n",
       "       'customer_zip_code_prefix', 'customer_city', 'customer_state',\n",
       "       'recency', 'frequency', 'monetary', 'review_score_1', 'review_score_2',\n",
       "       'review_score_3', 'review_score_4', 'review_score_5', 'C0_6'],\n",
       "      dtype='object')"
      ]
     },
     "execution_count": 56,
     "metadata": {},
     "output_type": "execute_result"
    }
   ],
   "source": [
    "C0_6 = pd.read_csv('F6_with_C06_clusters.csv')\n",
    "C0_6.columns"
   ]
  },
  {
   "cell_type": "code",
   "execution_count": 57,
   "id": "360f6182-fdcc-4c6a-9a7c-37fa149f59c0",
   "metadata": {},
   "outputs": [
    {
     "data": {
      "text/plain": [
       "Index(['order_id', 'order_item_id', 'product_id', 'seller_id',\n",
       "       'shipping_limit_date', 'price', 'freight_value', 'customer_id',\n",
       "       'order_status', 'order_purchase_timestamp', 'order_approved_at',\n",
       "       'order_delivered_carrier_date', 'order_delivered_customer_date',\n",
       "       'order_estimated_delivery_date', 'product_category_name',\n",
       "       'product_name_lenght', 'product_description_lenght',\n",
       "       'product_photos_qty', 'product_weight_g', 'product_length_cm',\n",
       "       'product_height_cm', 'product_width_cm', 'customer_unique_id',\n",
       "       'customer_zip_code_prefix', 'customer_city', 'customer_state',\n",
       "       'recency', 'frequency', 'monetary', 'review_score_1', 'review_score_2',\n",
       "       'review_score_3', 'review_score_4', 'review_score_5', 'C6'],\n",
       "      dtype='object')"
      ]
     },
     "execution_count": 57,
     "metadata": {},
     "output_type": "execute_result"
    }
   ],
   "source": [
    "C6 = pd.read_csv('F6_with_clusters.csv')\n",
    "C6.columns"
   ]
  },
  {
   "cell_type": "code",
   "execution_count": 58,
   "id": "57d9b34e-7dea-47cf-bda8-d965208375da",
   "metadata": {},
   "outputs": [
    {
     "name": "stdout",
     "output_type": "stream",
     "text": [
      "Indice de Rand Ajusté (ARI) entre M6 et M0 sur F6 : 0.1076\n"
     ]
    }
   ],
   "source": [
    "import pandas as pd\n",
    "from sklearn.metrics import adjusted_rand_score\n",
    "\n",
    "# Calcul de l'ARI entre C6 et C0_6 - On compare l'application du Modele M0 (C0_6) sur les données F6 AVEC le modele frais F6 (C6)\n",
    "ari_score = adjusted_rand_score(C6['C6'], C0_6['C0_6'])\n",
    "\n",
    "# Afficher le score ARI\n",
    "print(f\"Indice de Rand Ajusté (ARI) entre M6 et M0 sur F6 : {ari_score:.4f}\")"
   ]
  },
  {
   "cell_type": "markdown",
   "id": "d4114d0f-b5ec-4c59-b341-29b110836891",
   "metadata": {},
   "source": [
    "# Visualisation de l'ARI [Adjusted Rand Index] + Schéma des itérations"
   ]
  },
  {
   "cell_type": "code",
   "execution_count": 79,
   "id": "a82f7a3f-b35c-4b30-bfa7-9a5581416ef0",
   "metadata": {},
   "outputs": [
    {
     "data": {
      "image/png": "[encoded data removed]",
      "text/plain": [
       "<Figure size 1400x700 with 1 Axes>"
      ]
     },
     "metadata": {},
     "output_type": "display_data"
    }
   ],
   "source": [
    "import matplotlib.pyplot as plt\n",
    "\n",
    "# Périodes et scores ARI\n",
    "periods = [\n",
    "    \"F1 (5 jours)\",\n",
    "    \"F2 (10 jours)\",\n",
    "    \"F3 (15 jours)\",\n",
    "    \"F4 (20 jours)\",\n",
    "    \"F5 (30 jours)\",\n",
    "    \"F6 (35 jours)\"\n",
    "]\n",
    "ari_scores = [\n",
    "    0.9677,  # F1\n",
    "    0.4125,  # F2\n",
    "    0.4695,  # F3\n",
    "    0.5013,  # F4\n",
    "    0.4715,  # F5\n",
    "    0.10   # F6\n",
    "]  # Retiré l'excédent pour aligner avec `periods`\n",
    "\n",
    "# Jours ajoutés (cumulatifs)\n",
    "days_added = [5, 10, 15, 20, 30, 35]\n",
    "\n",
    "# Création de la figure\n",
    "plt.figure(figsize=(14, 7))\n",
    "\n",
    "# Tracer les scores ARI\n",
    "plt.plot(periods, ari_scores, marker=\"o\", linestyle=\"-\", color=\"b\", label=\"ARI\")\n",
    "\n",
    "# Annoter les scores ARI sur les points\n",
    "for i, (score, days) in enumerate(zip(ari_scores, days_added)):\n",
    "    y_offset = 0.03 if score > 0.2 else -0.05\n",
    "    plt.text(\n",
    "        i, score + y_offset, f\"{score:.4f} (+{days} jours)\",\n",
    "        ha='center', fontsize=9, color='black', fontweight='normal'\n",
    "    )\n",
    "\n",
    "# Ajouter une ligne horizontale pour le seuil à 0.70\n",
    "plt.axhline(y=0.70, color='red', linestyle=\"--\", linewidth=1.5, label=\"Seuil ARI = 0.70\")\n",
    "\n",
    "# Ajouter des titres et labels\n",
    "plt.title(\"Évolution des Scores ARI (KMeans avec Récence, Fréquence, Montant et Review Scores)\",\n",
    "          fontsize=16, fontweight='bold', pad=20)\n",
    "plt.xlabel(\"Périodes (Nombre de jours ajoutés)\", fontsize=12)\n",
    "plt.ylabel(\"Score ARI\", fontsize=12)\n",
    "plt.ylim(0, 1)  # L'ARI est compris entre 0 et 1\n",
    "plt.xticks(fontsize=10, rotation=45, fontweight='normal')\n",
    "plt.yticks(fontsize=10)\n",
    "plt.grid(True, linestyle=\"--\", alpha=0.6)\n",
    "\n",
    "# Ajouter une légende\n",
    "plt.legend(fontsize=10)\n",
    "\n",
    "# Ajustement et affichage\n",
    "plt.tight_layout(rect=[0, 0, 1, 0.95])  # Ajuster l'espace pour le titre\n",
    "plt.show()\n"
   ]
  }
 ],
 "metadata": {
  "kernelspec": {
   "display_name": "Python 3 (ipykernel)",
   "language": "python",
   "name": "python3"
  },
  "language_info": {
   "codemirror_mode": {
    "name": "ipython",
    "version": 3
   },
   "file_extension": ".py",
   "mimetype": "text/x-python",
   "name": "python",
   "nbconvert_exporter": "python",
   "pygments_lexer": "ipython3",
   "version": "3.11.4"
  }
 },
 "nbformat": 4,
 "nbformat_minor": 5
}
